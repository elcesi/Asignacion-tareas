{
 "cells": [
  {
   "cell_type": "code",
   "execution_count": 2,
   "metadata": {
    "scrolled": true
   },
   "outputs": [
    {
     "name": "stdout",
     "output_type": "stream",
     "text": [
      "        grabacion  citas  gest_inss  gest_sps\n",
      "adminA          9      2          7         8\n",
      "adminB          6      4          3         7\n",
      "adminC          5      8          1         8\n",
      "adminD          7      6          9         4\n"
     ]
    }
   ],
   "source": [
    "import pandas as pd\n",
    "\n",
    "agents = {'adminA': [9, 2, 7, 8], 'adminB': [6, 4, 3, 7], 'adminC': [5, 8, 1, 8], 'adminD': [7, 6, 9, 4]}\n",
    "tabla_tareas = pd.DataFrame.from_dict(agents, orient='index', columns=['grabacion', 'citas', 'gest_inss', 'gest_sps'])\n",
    "\n",
    "print(tabla_tareas)"
   ]
  },
  {
   "cell_type": "code",
   "execution_count": 5,
   "metadata": {},
   "outputs": [
    {
     "ename": "ValueError",
     "evalue": "max() arg is an empty sequence",
     "output_type": "error",
     "traceback": [
      "\u001b[1;31m---------------------------------------------------------------------------\u001b[0m",
      "\u001b[1;31mValueError\u001b[0m                                Traceback (most recent call last)",
      "\u001b[1;32m<ipython-input-5-20a7e62c4ed3>\u001b[0m in \u001b[0;36m<module>\u001b[1;34m()\u001b[0m\n\u001b[0;32m     68\u001b[0m         \u001b[0mcount\u001b[0m \u001b[1;33m+=\u001b[0m\u001b[1;36m1\u001b[0m\u001b[1;33m\u001b[0m\u001b[0m\n\u001b[0;32m     69\u001b[0m \u001b[1;33m\u001b[0m\u001b[0m\n\u001b[1;32m---> 70\u001b[1;33m \u001b[0masignacion_tareas\u001b[0m\u001b[1;33m(\u001b[0m\u001b[0mtabla_tareas\u001b[0m\u001b[1;33m)\u001b[0m\u001b[1;33m\u001b[0m\u001b[0m\n\u001b[0m",
      "\u001b[1;32m<ipython-input-5-20a7e62c4ed3>\u001b[0m in \u001b[0;36masignacion_tareas\u001b[1;34m(tabla)\u001b[0m\n\u001b[0;32m     57\u001b[0m     \u001b[0mnodo_inicial\u001b[0m \u001b[1;33m=\u001b[0m \u001b[1;33m[\u001b[0m\u001b[1;33m[\u001b[0m\u001b[1;33m]\u001b[0m\u001b[1;33m,\u001b[0m \u001b[1;36m0\u001b[0m\u001b[1;33m,\u001b[0m \u001b[0mtabla\u001b[0m\u001b[1;33m]\u001b[0m\u001b[1;33m\u001b[0m\u001b[0m\n\u001b[0;32m     58\u001b[0m     \u001b[0mnodos_inicio\u001b[0m \u001b[1;33m=\u001b[0m \u001b[1;33m[\u001b[0m\u001b[0mnodo_inicial\u001b[0m\u001b[1;33m]\u001b[0m\u001b[1;33m\u001b[0m\u001b[0m\n\u001b[1;32m---> 59\u001b[1;33m     \u001b[0msoluciones\u001b[0m \u001b[1;33m=\u001b[0m \u001b[0masignacion_tareas_grafo\u001b[0m\u001b[1;33m(\u001b[0m\u001b[0mnodos_inicio\u001b[0m\u001b[1;33m,\u001b[0m \u001b[0msize\u001b[0m\u001b[1;33m)\u001b[0m\u001b[1;33m\u001b[0m\u001b[0m\n\u001b[0m\u001b[0;32m     60\u001b[0m     \u001b[1;31m# imprimir las posibles soluciones (en caso de haber más de una)\u001b[0m\u001b[1;33m\u001b[0m\u001b[1;33m\u001b[0m\u001b[0m\n\u001b[0;32m     61\u001b[0m     \u001b[0mcount\u001b[0m \u001b[1;33m=\u001b[0m \u001b[1;36m0\u001b[0m\u001b[1;33m\u001b[0m\u001b[0m\n",
      "\u001b[1;32m<ipython-input-5-20a7e62c4ed3>\u001b[0m in \u001b[0;36masignacion_tareas_grafo\u001b[1;34m(nodos, profundidad_restante)\u001b[0m\n\u001b[0;32m     49\u001b[0m             \u001b[0mnuevos_nodos\u001b[0m\u001b[1;33m.\u001b[0m\u001b[0mappend\u001b[0m\u001b[1;33m(\u001b[0m\u001b[0mnodos_candidatos\u001b[0m\u001b[1;33m[\u001b[0m\u001b[0mi\u001b[0m\u001b[1;33m]\u001b[0m\u001b[1;33m)\u001b[0m\u001b[1;33m\u001b[0m\u001b[0m\n\u001b[0;32m     50\u001b[0m \u001b[1;33m\u001b[0m\u001b[0m\n\u001b[1;32m---> 51\u001b[1;33m     \u001b[1;32mreturn\u001b[0m \u001b[0masignacion_tareas_grafo\u001b[0m\u001b[1;33m(\u001b[0m\u001b[0mnuevos_nodos\u001b[0m\u001b[1;33m,\u001b[0m \u001b[0mprofundidad_restante\u001b[0m\u001b[1;33m)\u001b[0m\u001b[1;33m\u001b[0m\u001b[0m\n\u001b[0m\u001b[0;32m     52\u001b[0m \u001b[1;33m\u001b[0m\u001b[0m\n\u001b[0;32m     53\u001b[0m \u001b[1;32mdef\u001b[0m \u001b[0masignacion_tareas\u001b[0m\u001b[1;33m(\u001b[0m\u001b[0mtabla\u001b[0m\u001b[1;33m)\u001b[0m\u001b[1;33m:\u001b[0m\u001b[1;33m\u001b[0m\u001b[0m\n",
      "\u001b[1;32m<ipython-input-5-20a7e62c4ed3>\u001b[0m in \u001b[0;36masignacion_tareas_grafo\u001b[1;34m(nodos, profundidad_restante)\u001b[0m\n\u001b[0;32m     49\u001b[0m             \u001b[0mnuevos_nodos\u001b[0m\u001b[1;33m.\u001b[0m\u001b[0mappend\u001b[0m\u001b[1;33m(\u001b[0m\u001b[0mnodos_candidatos\u001b[0m\u001b[1;33m[\u001b[0m\u001b[0mi\u001b[0m\u001b[1;33m]\u001b[0m\u001b[1;33m)\u001b[0m\u001b[1;33m\u001b[0m\u001b[0m\n\u001b[0;32m     50\u001b[0m \u001b[1;33m\u001b[0m\u001b[0m\n\u001b[1;32m---> 51\u001b[1;33m     \u001b[1;32mreturn\u001b[0m \u001b[0masignacion_tareas_grafo\u001b[0m\u001b[1;33m(\u001b[0m\u001b[0mnuevos_nodos\u001b[0m\u001b[1;33m,\u001b[0m \u001b[0mprofundidad_restante\u001b[0m\u001b[1;33m)\u001b[0m\u001b[1;33m\u001b[0m\u001b[0m\n\u001b[0m\u001b[0;32m     52\u001b[0m \u001b[1;33m\u001b[0m\u001b[0m\n\u001b[0;32m     53\u001b[0m \u001b[1;32mdef\u001b[0m \u001b[0masignacion_tareas\u001b[0m\u001b[1;33m(\u001b[0m\u001b[0mtabla\u001b[0m\u001b[1;33m)\u001b[0m\u001b[1;33m:\u001b[0m\u001b[1;33m\u001b[0m\u001b[0m\n",
      "\u001b[1;32m<ipython-input-5-20a7e62c4ed3>\u001b[0m in \u001b[0;36masignacion_tareas_grafo\u001b[1;34m(nodos, profundidad_restante)\u001b[0m\n\u001b[0;32m     49\u001b[0m             \u001b[0mnuevos_nodos\u001b[0m\u001b[1;33m.\u001b[0m\u001b[0mappend\u001b[0m\u001b[1;33m(\u001b[0m\u001b[0mnodos_candidatos\u001b[0m\u001b[1;33m[\u001b[0m\u001b[0mi\u001b[0m\u001b[1;33m]\u001b[0m\u001b[1;33m)\u001b[0m\u001b[1;33m\u001b[0m\u001b[0m\n\u001b[0;32m     50\u001b[0m \u001b[1;33m\u001b[0m\u001b[0m\n\u001b[1;32m---> 51\u001b[1;33m     \u001b[1;32mreturn\u001b[0m \u001b[0masignacion_tareas_grafo\u001b[0m\u001b[1;33m(\u001b[0m\u001b[0mnuevos_nodos\u001b[0m\u001b[1;33m,\u001b[0m \u001b[0mprofundidad_restante\u001b[0m\u001b[1;33m)\u001b[0m\u001b[1;33m\u001b[0m\u001b[0m\n\u001b[0m\u001b[0;32m     52\u001b[0m \u001b[1;33m\u001b[0m\u001b[0m\n\u001b[0;32m     53\u001b[0m \u001b[1;32mdef\u001b[0m \u001b[0masignacion_tareas\u001b[0m\u001b[1;33m(\u001b[0m\u001b[0mtabla\u001b[0m\u001b[1;33m)\u001b[0m\u001b[1;33m:\u001b[0m\u001b[1;33m\u001b[0m\u001b[0m\n",
      "\u001b[1;32m<ipython-input-5-20a7e62c4ed3>\u001b[0m in \u001b[0;36masignacion_tareas_grafo\u001b[1;34m(nodos, profundidad_restante)\u001b[0m\n\u001b[0;32m     37\u001b[0m             \u001b[0mnodos_candidatos\u001b[0m\u001b[1;33m.\u001b[0m\u001b[0mappend\u001b[0m\u001b[1;33m(\u001b[0m\u001b[0mnuevo_nodo\u001b[0m\u001b[1;33m)\u001b[0m\u001b[1;33m\u001b[0m\u001b[0m\n\u001b[0;32m     38\u001b[0m             \u001b[1;31m# calcular el maximo y minimo que pueden alcanzar los nodos hijos\u001b[0m\u001b[1;33m\u001b[0m\u001b[1;33m\u001b[0m\u001b[0m\n\u001b[1;32m---> 39\u001b[1;33m             \u001b[0mopcion_minimo\u001b[0m\u001b[1;33m,\u001b[0m \u001b[0mopcion_maximo\u001b[0m \u001b[1;33m=\u001b[0m \u001b[0mcalcular_opciones\u001b[0m\u001b[1;33m(\u001b[0m\u001b[0mnuevo_valor\u001b[0m\u001b[1;33m,\u001b[0m \u001b[0mnueva_tabla\u001b[0m\u001b[1;33m)\u001b[0m\u001b[1;33m\u001b[0m\u001b[0m\n\u001b[0m\u001b[0;32m     40\u001b[0m             \u001b[0mminimos_de_candidatos\u001b[0m\u001b[1;33m.\u001b[0m\u001b[0mappend\u001b[0m\u001b[1;33m(\u001b[0m\u001b[0mopcion_minimo\u001b[0m\u001b[1;33m)\u001b[0m\u001b[1;33m\u001b[0m\u001b[0m\n\u001b[0;32m     41\u001b[0m             \u001b[0mmaximos_de_candidatos\u001b[0m\u001b[1;33m.\u001b[0m\u001b[0mappend\u001b[0m\u001b[1;33m(\u001b[0m\u001b[0mopcion_maximo\u001b[0m\u001b[1;33m)\u001b[0m\u001b[1;33m\u001b[0m\u001b[0m\n",
      "\u001b[1;32m<ipython-input-5-20a7e62c4ed3>\u001b[0m in \u001b[0;36mcalcular_opciones\u001b[1;34m(valor, tabla)\u001b[0m\n\u001b[0;32m      8\u001b[0m     \u001b[0mminimo\u001b[0m \u001b[1;33m=\u001b[0m \u001b[0mvalor\u001b[0m\u001b[1;33m\u001b[0m\u001b[0m\n\u001b[0;32m      9\u001b[0m     \u001b[1;32mfor\u001b[0m \u001b[0mindex\u001b[0m\u001b[1;33m,\u001b[0m \u001b[0mrow\u001b[0m \u001b[1;32min\u001b[0m \u001b[0mtabla\u001b[0m\u001b[1;33m.\u001b[0m\u001b[0miterrows\u001b[0m\u001b[1;33m(\u001b[0m\u001b[1;33m)\u001b[0m\u001b[1;33m:\u001b[0m\u001b[1;33m\u001b[0m\u001b[0m\n\u001b[1;32m---> 10\u001b[1;33m         \u001b[0mmaximo\u001b[0m \u001b[1;33m+=\u001b[0m \u001b[0mmax\u001b[0m\u001b[1;33m(\u001b[0m\u001b[0mrow\u001b[0m\u001b[1;33m)\u001b[0m\u001b[1;33m\u001b[0m\u001b[0m\n\u001b[0m\u001b[0;32m     11\u001b[0m         \u001b[0mminimo\u001b[0m \u001b[1;33m+=\u001b[0m \u001b[0mmin\u001b[0m\u001b[1;33m(\u001b[0m\u001b[0mrow\u001b[0m\u001b[1;33m)\u001b[0m\u001b[1;33m\u001b[0m\u001b[0m\n\u001b[0;32m     12\u001b[0m     \u001b[1;32mreturn\u001b[0m \u001b[1;33m[\u001b[0m\u001b[0mminimo\u001b[0m\u001b[1;33m,\u001b[0m \u001b[0mmaximo\u001b[0m\u001b[1;33m]\u001b[0m\u001b[1;33m\u001b[0m\u001b[0m\n",
      "\u001b[1;31mValueError\u001b[0m: max() arg is an empty sequence"
     ]
    }
   ],
   "source": [
    "# Suma el valor maximo (y minimo)\n",
    "# que cada agente puede ejecutar\n",
    "# en los diferentes trabajos\n",
    "# para calcular el valor maximo (y minimo)\n",
    "# del nodo\n",
    "def calcular_opciones(valor, tabla):\n",
    "    maximo = valor\n",
    "    minimo = valor\n",
    "    for index, row in tabla.iterrows():\n",
    "        maximo += max(row)\n",
    "        minimo += min(row)       \n",
    "    return [minimo, maximo]\n",
    "\n",
    "def asignacion_tareas_grafo(nodos, profundidad_restante):\n",
    "    # si ya se han completado todas las iteraciones salimos\n",
    "    if profundidad_restante == 0:\n",
    "        # seleccionar el nodo solucion\n",
    "        return nodos\n",
    "    # inicializar variables de la etapa\n",
    "    nuevos_nodos = []\n",
    "    nodos_candidatos = []\n",
    "    minimos_de_candidatos = []\n",
    "    maximos_de_candidatos = []\n",
    "    # para cada nodo hay que calcular los nodos hijos\n",
    "    for nodo in nodos:\n",
    "        # extraer la informacion del nodo\n",
    "        solucion, valor, tabla = nodo\n",
    "        columns = list(tabla)\n",
    "        # calcular los nodos hijos\n",
    "        for column in columns:\n",
    "            opcion = tabla[column][0]\n",
    "            nueva_solucion = solucion + [column]\n",
    "            nuevo_valor = valor + opcion\n",
    "            nueva_tabla = tabla[1:]\n",
    "            nueva_tabla = nueva_tabla.drop(column, axis=1)\n",
    "            nuevo_nodo = [nueva_solucion, nuevo_valor, nueva_tabla]\n",
    "            nodos_candidatos.append(nuevo_nodo)\n",
    "            # calcular el maximo y minimo que pueden alcanzar los nodos hijos\n",
    "            opcion_minimo, opcion_maximo = calcular_opciones(nuevo_valor, nueva_tabla)\n",
    "            minimos_de_candidatos.append(opcion_minimo)\n",
    "            maximos_de_candidatos.append(opcion_maximo)\n",
    "    \n",
    "    profundidad_restante -= 1\n",
    "    \n",
    "    # loop sobre los nuevos nodos y prune los no validos\n",
    "    valor_prune = max(minimos_de_candidatos)\n",
    "    for i in range(len(minimos_de_candidatos)):\n",
    "        if maximos_de_candidatos[i] >= valor_prune:\n",
    "            nuevos_nodos.append(nodos_candidatos[i])\n",
    "\n",
    "    return asignacion_tareas_grafo(nuevos_nodos, profundidad_restante)\n",
    "    \n",
    "def asignacion_tareas(tabla):\n",
    "    # Calcular profundidad maxima del arbol\n",
    "    size = len(list(tabla))\n",
    "    # inicializar las variables\n",
    "    nodo_inicial = [[], 0, tabla]\n",
    "    nodos_inicio = [nodo_inicial]\n",
    "    soluciones = asignacion_tareas_grafo(nodos_inicio, size)\n",
    "    # imprimir las posibles soluciones (en caso de haber más de una)\n",
    "    count = 0\n",
    "    for solucion in soluciones: \n",
    "        asignacion, valor, tabla = solucion\n",
    "        print(\"---------------\")\n",
    "        print(\"Solucion \" + str(count) + \":\")\n",
    "        print(\"Las asignaciones por agente son: \" + str(asignacion))\n",
    "        print(\"El valor obtenido con las asignaciones es: \" + str(valor))\n",
    "        count +=1\n",
    "    \n",
    "asignacion_tareas(tabla_tareas)"
   ]
  },
  {
   "cell_type": "code",
   "execution_count": null,
   "metadata": {},
   "outputs": [],
   "source": []
  }
 ],
 "metadata": {
  "kernelspec": {
   "display_name": "Python 3",
   "language": "python",
   "name": "python3"
  },
  "language_info": {
   "codemirror_mode": {
    "name": "ipython",
    "version": 3
   },
   "file_extension": ".py",
   "mimetype": "text/x-python",
   "name": "python",
   "nbconvert_exporter": "python",
   "pygments_lexer": "ipython3",
   "version": "3.7.0"
  }
 },
 "nbformat": 4,
 "nbformat_minor": 2
}
