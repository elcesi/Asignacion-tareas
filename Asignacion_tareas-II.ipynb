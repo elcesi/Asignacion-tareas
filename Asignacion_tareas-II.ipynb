{
 "cells": [
  {
   "cell_type": "code",
   "execution_count": 28,
   "metadata": {
    "scrolled": true
   },
   "outputs": [
    {
     "name": "stdout",
     "output_type": "stream",
     "text": [
      "        grabacion  citas  gest_inss  gest_sps  otras_gest1  otras_gest2\n",
      "adminA          9      2          7         8            1            1\n",
      "adminB          6      4          3         7            1            1\n",
      "adminC          5      8          1         8            1            1\n",
      "adminD          7      6          9         4            1            1\n",
      "adminE          1      1          1         1            1            1\n",
      "adminF          1      1          1         1            1            1\n"
     ]
    }
   ],
   "source": [
    "import pandas as pd\n",
    "\n",
    "agents = {'adminA': [9, 2, 7, 8,1,1], 'adminB': [6, 4, 3, 7,1,1], 'adminC': [5, 8, 1, 8,1,1], 'adminD': [7, 6, 9, 4,1,1],'adminE': [1, 1, 1, 1,1,1],'adminF': [1, 1, 1, 1,1,1]}\n",
    "tabla_tareas = pd.DataFrame.from_dict(agents, orient='index', columns=['grabacion', 'citas', 'gest_inss', 'gest_sps','otras_gest1','otras_gest2'])\n",
    "\n",
    "print(tabla_tareas)"
   ]
  },
  {
   "cell_type": "code",
   "execution_count": 29,
   "metadata": {},
   "outputs": [
    {
     "name": "stdout",
     "output_type": "stream",
     "text": [
      "---------------\n",
      "Solucion 0:\n",
      "Las asignaciones por agente son: ['grabacion', 'gest_sps', 'citas', 'gest_inss', 'otras_gest1', 'otras_gest2']\n",
      "El valor obtenido con las asignaciones es: 35\n",
      "---------------\n",
      "Solucion 1:\n",
      "Las asignaciones por agente son: ['grabacion', 'gest_sps', 'citas', 'gest_inss', 'otras_gest2', 'otras_gest1']\n",
      "El valor obtenido con las asignaciones es: 35\n"
     ]
    }
   ],
   "source": [
    "def calcular_opciones(valor, tabla):\n",
    "    maximo = valor\n",
    "    minimo = valor\n",
    "    for index, row in tabla.iterrows():\n",
    "        maximo += max(row)\n",
    "        minimo += min(row)       \n",
    "    return [minimo, maximo]\n",
    "\n",
    "def asignacion_tareas_grafo(nodos, profundidad_restante):\n",
    "    \n",
    "    if profundidad_restante == 0:\n",
    "        \n",
    "        return nodos\n",
    "    \n",
    "    nuevos_nodos = []\n",
    "    nodos_candidatos = []\n",
    "    minimos_de_candidatos = []\n",
    "    maximos_de_candidatos = []\n",
    "    \n",
    "    for nodo in nodos:\n",
    "        \n",
    "        solucion, valor, tabla = nodo\n",
    "        columns = list(tabla)\n",
    "       \n",
    "        for column in columns:\n",
    "            opcion = tabla[column][0]\n",
    "            nueva_solucion = solucion + [column]\n",
    "            nuevo_valor = valor + opcion\n",
    "            nueva_tabla = tabla[1:]\n",
    "            nueva_tabla = nueva_tabla.drop(column, axis=1)\n",
    "            nuevo_nodo = [nueva_solucion, nuevo_valor, nueva_tabla]\n",
    "            nodos_candidatos.append(nuevo_nodo)\n",
    "            \n",
    "            opcion_minimo, opcion_maximo = calcular_opciones(nuevo_valor, nueva_tabla)\n",
    "            minimos_de_candidatos.append(opcion_minimo)\n",
    "            maximos_de_candidatos.append(opcion_maximo)\n",
    "    \n",
    "    profundidad_restante -= 1\n",
    "    \n",
    "    \n",
    "    valor_prune = max(minimos_de_candidatos)\n",
    "    for i in range(len(minimos_de_candidatos)):\n",
    "        if maximos_de_candidatos[i] >= valor_prune:\n",
    "            nuevos_nodos.append(nodos_candidatos[i])\n",
    "\n",
    "    return asignacion_tareas_grafo(nuevos_nodos, profundidad_restante)\n",
    "    \n",
    "def asignacion_tareas(tabla):\n",
    "    \n",
    "    size = len(list(tabla))\n",
    "    \n",
    "    nodo_inicial = [[], 0, tabla]\n",
    "    nodos_inicio = [nodo_inicial]\n",
    "    soluciones = asignacion_tareas_grafo(nodos_inicio, size)\n",
    "    \n",
    "    count = 0\n",
    "    for solucion in soluciones: \n",
    "        asignacion, valor, tabla = solucion\n",
    "        print(\"---------------\")\n",
    "        print(\"Solucion \" + str(count) + \":\")\n",
    "        print(\"Las asignaciones por agente son: \" + str(asignacion))\n",
    "        print(\"El valor obtenido con las asignaciones es: \" + str(valor))\n",
    "        count +=1\n",
    "    \n",
    "asignacion_tareas(tabla_tareas)"
   ]
  },
  {
   "cell_type": "code",
   "execution_count": null,
   "metadata": {},
   "outputs": [],
   "source": []
  }
 ],
 "metadata": {
  "kernelspec": {
   "display_name": "Python 3",
   "language": "python",
   "name": "python3"
  },
  "language_info": {
   "codemirror_mode": {
    "name": "ipython",
    "version": 3
   },
   "file_extension": ".py",
   "mimetype": "text/x-python",
   "name": "python",
   "nbconvert_exporter": "python",
   "pygments_lexer": "ipython3",
   "version": "3.7.0"
  }
 },
 "nbformat": 4,
 "nbformat_minor": 2
}
